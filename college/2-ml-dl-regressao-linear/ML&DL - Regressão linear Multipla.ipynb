{
  "nbformat": 4,
  "nbformat_minor": 2,
  "metadata": {
    "colab": {
      "name": "ML&DL - Regressão linear Multipla.ipynb",
      "provenance": [],
      "collapsed_sections": []
    },
    "kernelspec": {
      "name": "python3",
      "display_name": "Python 3.8.8 64-bit ('base': conda)"
    },
    "language_info": {
      "codemirror_mode": {
        "name": "ipython",
        "version": 3
      },
      "file_extension": ".py",
      "mimetype": "text/x-python",
      "name": "python",
      "nbconvert_exporter": "python",
      "pygments_lexer": "ipython3",
      "version": "3.8.8"
    },
    "interpreter": {
      "hash": "c128549c9f634028034dabcce1a48fa2c1b66ddd1c203e3e6b61562cd69260c4"
    }
  },
  "cells": [
    {
      "cell_type": "markdown",
      "source": [
        "# ML&DL - Regressão linear Multipla"
      ],
      "metadata": {
        "id": "YbFQ9rJjkz7C"
      }
    },
    {
      "cell_type": "code",
      "execution_count": null,
      "source": [
        "!pip install plotly --upgrade"
      ],
      "outputs": [],
      "metadata": {
        "id": "996CkLumsl3E",
        "colab": {
          "base_uri": "https://localhost:8080/"
        },
        "outputId": "fbd1d2a1-fe43-4cc4-d1dd-4c250b51fb2a"
      }
    },
    {
      "cell_type": "code",
      "execution_count": null,
      "source": [
        "import plotly.express as px\n",
        "import plotly.graph_objects as go\n",
        "import seaborn as sns\n",
        "import matplotlib.pyplot as plt\n",
        "import pandas as pd\n",
        "import numpy as np"
      ],
      "outputs": [],
      "metadata": {
        "id": "-dOBJIGes-31"
      }
    },
    {
      "cell_type": "code",
      "execution_count": null,
      "source": [
        "#from google.colab import drive\n",
        "#drive.mount('/content/drive')"
      ],
      "outputs": [],
      "metadata": {
        "id": "6EXlkydDyhAI",
        "colab": {
          "base_uri": "https://localhost:8080/"
        },
        "outputId": "66ec2daa-eda8-42da-c802-42e949117f1a"
      }
    },
    {
      "cell_type": "code",
      "execution_count": null,
      "source": [
        "base_casas = pd.read_csv('data/house_prices.csv')\n",
        "base_casas"
      ],
      "outputs": [],
      "metadata": {
        "id": "qMzKF8nXxsA0",
        "colab": {
          "base_uri": "https://localhost:8080/",
          "height": 442
        },
        "outputId": "a6283d45-71aa-4e8b-c41c-359206e94cf2"
      }
    },
    {
      "cell_type": "code",
      "execution_count": null,
      "source": [
        "base_casas.describe()"
      ],
      "outputs": [],
      "metadata": {
        "id": "iXGHB6TOyl-Q",
        "colab": {
          "base_uri": "https://localhost:8080/",
          "height": 319
        },
        "outputId": "38a928cc-d865-49ac-d00c-6eeb82c4bbef"
      }
    },
    {
      "cell_type": "code",
      "execution_count": null,
      "source": [
        "base_casas.isnull().sum()"
      ],
      "outputs": [],
      "metadata": {
        "id": "7WgYqclcy2y6",
        "colab": {
          "base_uri": "https://localhost:8080/"
        },
        "outputId": "6c098cb2-498c-4a5f-fddf-e53916c47acc"
      }
    },
    {
      "cell_type": "code",
      "execution_count": null,
      "source": [
        "base_casas.corr()"
      ],
      "outputs": [],
      "metadata": {
        "id": "z3-gqbbEzAJB",
        "colab": {
          "base_uri": "https://localhost:8080/",
          "height": 695
        },
        "outputId": "1f454118-3abc-4573-ccd5-23a07e659f1a"
      }
    },
    {
      "cell_type": "code",
      "execution_count": null,
      "source": [
        "figura = plt.figure(figsize=(20,20))\n",
        "sns.heatmap(base_casas.corr(), annot=True);"
      ],
      "outputs": [],
      "metadata": {
        "id": "Ke4QZ7tKzKAj",
        "colab": {
          "base_uri": "https://localhost:8080/",
          "height": 1000
        },
        "outputId": "c86f26f6-0a38-47d1-e429-d80ba163b8e9"
      }
    },
    {
      "cell_type": "code",
      "execution_count": null,
      "source": [
        "X_casas = base_casas.iloc[:, 3:19]\n",
        "X_casas"
      ],
      "outputs": [],
      "metadata": {
        "id": "86KDcqgj9I5d",
        "colab": {
          "base_uri": "https://localhost:8080/",
          "height": 422
        },
        "outputId": "e7e5a935-a477-4d92-e50d-9a27ccec484b"
      }
    },
    {
      "cell_type": "code",
      "execution_count": null,
      "source": [
        "y_casas = base_casas.iloc[:, 2]\n",
        "y_casas"
      ],
      "outputs": [],
      "metadata": {
        "id": "0p6ThpMQ9adS",
        "colab": {
          "base_uri": "https://localhost:8080/"
        },
        "outputId": "2c64ccd8-0eaa-443a-cb94-b09acca13703"
      }
    },
    {
      "cell_type": "code",
      "execution_count": null,
      "source": [
        "from sklearn.model_selection import train_test_split\n",
        "X_casas_treinamento, X_casas_teste, y_casas_treinamento, y_casas_teste = train_test_split(X_casas, y_casas, test_size = 0.3, random_state = 0)"
      ],
      "outputs": [],
      "metadata": {
        "id": "a4AKtgVd9h02"
      }
    },
    {
      "cell_type": "code",
      "execution_count": null,
      "source": [
        "X_casas_treinamento.shape, X_casas_teste.shape"
      ],
      "outputs": [],
      "metadata": {
        "id": "9fw4GK5g9kkj",
        "colab": {
          "base_uri": "https://localhost:8080/"
        },
        "outputId": "5180d0f9-0ea6-4ed2-dcc2-2e57eb0dfb93"
      }
    },
    {
      "cell_type": "code",
      "execution_count": null,
      "source": [
        "from sklearn.linear_model import LinearRegression"
      ],
      "outputs": [],
      "metadata": {
        "id": "Wci55W3nOpyW"
      }
    },
    {
      "cell_type": "code",
      "execution_count": null,
      "source": [
        "regressor_multiplo_casas = LinearRegression()\n",
        "regressor_multiplo_casas.fit(X_casas_treinamento, y_casas_treinamento)"
      ],
      "outputs": [],
      "metadata": {
        "id": "CsHNlYDQ9qLA",
        "colab": {
          "base_uri": "https://localhost:8080/"
        },
        "outputId": "70b1a53c-3091-4faf-8755-11a71ba507ee"
      }
    },
    {
      "cell_type": "code",
      "execution_count": null,
      "source": [
        "regressor_multiplo_casas.intercept_"
      ],
      "outputs": [],
      "metadata": {
        "id": "aJrGRS_a9yW2",
        "colab": {
          "base_uri": "https://localhost:8080/",
          "height": 167
        },
        "outputId": "5676893d-02fa-4d3a-e079-2366dc476364"
      }
    },
    {
      "cell_type": "code",
      "execution_count": null,
      "source": [
        "regressor_multiplo_casas.coef_"
      ],
      "outputs": [],
      "metadata": {
        "id": "G1CHXDLM91Tt",
        "colab": {
          "base_uri": "https://localhost:8080/"
        },
        "outputId": "adf37269-731b-4d44-ace6-ca1dbebeda8c"
      }
    },
    {
      "cell_type": "code",
      "execution_count": null,
      "source": [
        "coeff_df = pd.DataFrame(regressor_multiplo_casas.coef_,X_casas.columns,columns=['Coefficient'])\n",
        "coeff_df"
      ],
      "outputs": [],
      "metadata": {
        "colab": {
          "base_uri": "https://localhost:8080/",
          "height": 549
        },
        "id": "WzfZUxLzNzMD",
        "outputId": "4f05e8f3-3d3e-4b3f-96ce-7b847106db68"
      }
    },
    {
      "cell_type": "code",
      "execution_count": null,
      "source": [
        "len(regressor_multiplo_casas.coef_)"
      ],
      "outputs": [],
      "metadata": {
        "id": "QzuCglu096c_",
        "colab": {
          "base_uri": "https://localhost:8080/"
        },
        "outputId": "a4c2d6be-915d-4a16-aab2-b1e314e4595b"
      }
    },
    {
      "cell_type": "markdown",
      "source": [
        "## Predições do nosso modelo\n",
        "\n",
        "Vamos pegar as previsões em nosso conjunto de testes e ver o quão bem!"
      ],
      "metadata": {
        "id": "HaVJNPUWSaBt"
      }
    },
    {
      "cell_type": "code",
      "execution_count": null,
      "source": [
        "regressor_multiplo_casas.score(X_casas_treinamento, y_casas_treinamento)"
      ],
      "outputs": [],
      "metadata": {
        "id": "0Zc4zPaU-JGf",
        "colab": {
          "base_uri": "https://localhost:8080/"
        },
        "outputId": "62d6fd4a-b354-481f-bae4-9c50a8939e84"
      }
    },
    {
      "cell_type": "code",
      "execution_count": null,
      "source": [
        "regressor_multiplo_casas.score(X_casas_teste, y_casas_teste)"
      ],
      "outputs": [],
      "metadata": {
        "id": "rxEPYCTU-SOb",
        "colab": {
          "base_uri": "https://localhost:8080/"
        },
        "outputId": "1fa417f7-4b6f-47b6-b2a1-4c68b873252d"
      }
    },
    {
      "cell_type": "code",
      "execution_count": null,
      "source": [
        "predictions = regressor_multiplo_casas.predict(X_casas_teste)\n",
        "predictions"
      ],
      "outputs": [],
      "metadata": {
        "id": "gB1IKKv1-a74",
        "colab": {
          "base_uri": "https://localhost:8080/"
        },
        "outputId": "78592762-88a4-4b70-bf06-fddb2cf37dfb"
      }
    },
    {
      "cell_type": "markdown",
      "source": [
        "## Métricas de avaliação de regressão\n",
        "\n",
        "\n",
        "Aqui estão três métricas de avaliação comuns para problemas de regressão:\n",
        "\n",
        "**Mean absolute error ** (erro absoluto médio) (MAE) é a média do valor absoluto dos erros:\n",
        "\n",
        "$$\\frac 1n\\sum_{i=1}^n|y_i-\\hat{y}_i|$$\n",
        "\n",
        "** Mean Squared Error ** (erro médio quadrático) (MSE) é a média dos erros quadrados:\n",
        "\n",
        "$$\\frac 1n\\sum_{i=1}^n(y_i-\\hat{y}_i)^2$$\n",
        "\n",
        "** Root Mean Square Error ** (raiz do erro quadrático médio) (RMSE) é a raiz quadrada da média dos erros quadrados:\n",
        "\n",
        "$$\\sqrt{\\frac 1n\\sum_{i=1}^n(y_i-\\hat{y}_i)^2}$$\n",
        "\n",
        "Comparando estas métricas:\n",
        "\n",
        "- **MAE** é o mais fácil de entender, porque é o erro médio.\n",
        "- **MSE** é mais popular que o MAE, porque a MSE \"puniria\" erros maiores, o que tende a ser útil no mundo real.\n",
        "- **RMSE** é ainda mais popular do que MSE, porque o RMSE é interpretável nas unidades \"y\".\n",
        "\n",
        "Todas estas são ** funções de perda **, porque queremos minimizá-las."
      ],
      "metadata": {
        "id": "VYMVIV4tQgZ0"
      }
    },
    {
      "cell_type": "code",
      "execution_count": null,
      "source": [
        "from sklearn import metrics"
      ],
      "outputs": [],
      "metadata": {
        "id": "PSnPCCwSRoX4"
      }
    },
    {
      "cell_type": "code",
      "execution_count": null,
      "source": [
        "print('MAE:', metrics.mean_absolute_error(y_casas_teste, predictions))\n",
        "print('MSE:', metrics.mean_squared_error(y_casas_teste, predictions))\n",
        "print('RMSE:', np.sqrt(metrics.mean_squared_error(y_casas_teste, predictions)))"
      ],
      "outputs": [],
      "metadata": {
        "colab": {
          "base_uri": "https://localhost:8080/"
        },
        "id": "hxM1Yi9-RRCp",
        "outputId": "e932b96d-91f2-4f2c-866f-4257a54fe79f"
      }
    }
  ]
}