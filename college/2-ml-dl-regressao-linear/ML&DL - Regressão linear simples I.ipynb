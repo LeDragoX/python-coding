{
  "nbformat": 4,
  "nbformat_minor": 2,
  "metadata": {
    "colab": {
      "name": "ML&DL - Regressão linear simples I.ipynb",
      "provenance": []
    },
    "kernelspec": {
      "name": "python3",
      "display_name": "Python 3.8.8 64-bit ('base': conda)"
    },
    "language_info": {
      "codemirror_mode": {
        "name": "ipython",
        "version": 3
      },
      "file_extension": ".py",
      "mimetype": "text/x-python",
      "name": "python",
      "nbconvert_exporter": "python",
      "pygments_lexer": "ipython3",
      "version": "3.8.8"
    },
    "interpreter": {
      "hash": "c128549c9f634028034dabcce1a48fa2c1b66ddd1c203e3e6b61562cd69260c4"
    }
  },
  "cells": [
    {
      "cell_type": "markdown",
      "source": [
        "# ML&DL - Regressão linear simples I\n"
      ],
      "metadata": {
        "id": "YbFQ9rJjkz7C"
      }
    },
    {
      "cell_type": "markdown",
      "source": [
        "## Base plano saúde"
      ],
      "metadata": {
        "id": "RI1Lk42xk3RG"
      }
    },
    {
      "cell_type": "code",
      "execution_count": null,
      "source": [
        "!pip install plotly --upgrade\n",
        "!pip install yellowbrick"
      ],
      "outputs": [],
      "metadata": {
        "id": "996CkLumsl3E",
        "colab": {
          "base_uri": "https://localhost:8080/"
        },
        "outputId": "a6629445-c217-4c67-dacf-126048d9a16a"
      }
    },
    {
      "cell_type": "code",
      "execution_count": null,
      "source": [
        "import plotly.express as px\n",
        "import plotly.graph_objects as go\n",
        "import seaborn as sns\n",
        "import matplotlib.pyplot as plt\n",
        "import pandas as pd\n",
        "import numpy as np"
      ],
      "outputs": [],
      "metadata": {
        "id": "-dOBJIGes-31"
      }
    },
    {
      "cell_type": "code",
      "execution_count": null,
      "source": [
        "#from google.colab import drive\n",
        "#drive.mount('/content/drive')"
      ],
      "outputs": [],
      "metadata": {
        "id": "6EXlkydDyhAI"
      }
    },
    {
      "cell_type": "code",
      "execution_count": null,
      "source": [
        "base_plano_saude = pd.read_csv('data/plano_saude.csv')\n",
        "base_plano_saude"
      ],
      "outputs": [],
      "metadata": {
        "id": "fIr9-1LMtMOj"
      }
    },
    {
      "cell_type": "code",
      "execution_count": null,
      "source": [
        "X_plano_saude = base_plano_saude.iloc[:, 0].values\n",
        "X_plano_saude"
      ],
      "outputs": [],
      "metadata": {
        "id": "0YdCdgPCtYOb"
      }
    },
    {
      "cell_type": "code",
      "execution_count": null,
      "source": [
        "y_plano_saude = base_plano_saude.iloc[:, 1].values\n",
        "y_plano_saude"
      ],
      "outputs": [],
      "metadata": {
        "id": "SmXcsd0Etj4Y"
      }
    },
    {
      "cell_type": "code",
      "execution_count": null,
      "source": [
        "np.corrcoef(X_plano_saude, y_plano_saude)"
      ],
      "outputs": [],
      "metadata": {
        "id": "TxTnU8Zatqt1"
      }
    },
    {
      "cell_type": "code",
      "execution_count": null,
      "source": [
        "X_plano_saude.shape"
      ],
      "outputs": [],
      "metadata": {
        "id": "k4NGhcnEuDj3"
      }
    },
    {
      "cell_type": "code",
      "execution_count": null,
      "source": [
        "X_plano_saude = X_plano_saude.reshape(-1,1)\n",
        "X_plano_saude.shape"
      ],
      "outputs": [],
      "metadata": {
        "id": "Cv6nIK9PuICQ"
      }
    },
    {
      "cell_type": "code",
      "execution_count": null,
      "source": [
        "from sklearn.linear_model import LinearRegression\n",
        "regressor_plano_saude = LinearRegression()\n",
        "regressor_plano_saude.fit(X_plano_saude, y_plano_saude)"
      ],
      "outputs": [],
      "metadata": {
        "id": "T7iIjSCZuTOZ"
      }
    },
    {
      "cell_type": "code",
      "execution_count": null,
      "source": [
        "# a\n",
        "regressor_plano_saude.intercept_"
      ],
      "outputs": [],
      "metadata": {
        "id": "O4nrcYxCuopr"
      }
    },
    {
      "cell_type": "code",
      "execution_count": null,
      "source": [
        "# b\n",
        "regressor_plano_saude.coef_"
      ],
      "outputs": [],
      "metadata": {
        "id": "enjOw1tvu0Xx"
      }
    },
    {
      "cell_type": "code",
      "execution_count": null,
      "source": [
        "previsoes = regressor_plano_saude.predict(X_plano_saude)\n",
        "previsoes"
      ],
      "outputs": [],
      "metadata": {
        "id": "kGvyiFBxu9Tm"
      }
    },
    {
      "cell_type": "code",
      "execution_count": null,
      "source": [
        "X_plano_saude.ravel()"
      ],
      "outputs": [],
      "metadata": {
        "id": "Oy-yiwJqvfwh"
      }
    },
    {
      "cell_type": "code",
      "execution_count": null,
      "source": [
        "grafico = px.scatter(x = X_plano_saude.ravel(), y = y_plano_saude)\n",
        "grafico.add_scatter(x = X_plano_saude.ravel(), y = previsoes, name = 'Regressão')\n",
        "grafico.show()"
      ],
      "outputs": [],
      "metadata": {
        "id": "ddWkaO57vN6v"
      }
    },
    {
      "cell_type": "code",
      "execution_count": null,
      "source": [
        "regressor_plano_saude.intercept_ + regressor_plano_saude.coef_ * 40\n"
      ],
      "outputs": [],
      "metadata": {
        "id": "7i0-no2iwNcW"
      }
    },
    {
      "cell_type": "code",
      "execution_count": null,
      "source": [
        "regressor_plano_saude.predict([[40]])"
      ],
      "outputs": [],
      "metadata": {
        "id": "oZMJPVYEwiFB"
      }
    },
    {
      "cell_type": "code",
      "execution_count": null,
      "source": [
        "regressor_plano_saude.score(X_plano_saude, y_plano_saude)"
      ],
      "outputs": [],
      "metadata": {
        "id": "UAGKGR8owr3p"
      }
    },
    {
      "cell_type": "code",
      "execution_count": null,
      "source": [
        "from yellowbrick.regressor import ResidualsPlot\n",
        "visualizador = ResidualsPlot(regressor_plano_saude)\n",
        "visualizador.fit(X_plano_saude, y_plano_saude)\n",
        "visualizador.poof()"
      ],
      "outputs": [],
      "metadata": {
        "id": "GV73PdObw38E"
      }
    }
  ]
}