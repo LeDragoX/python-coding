{
  "cells": [
    {
      "cell_type": "markdown",
      "metadata": {
        "id": "hfYbHgghOW5g"
      },
      "source": [
        "# Importação das bibliotecas básicas"
      ]
    },
    {
      "cell_type": "code",
      "execution_count": null,
      "metadata": {
        "id": "IyRCfZ_fhLef"
      },
      "outputs": [],
      "source": [
        "!pip install plotly --upgrade"
      ]
    },
    {
      "cell_type": "code",
      "execution_count": null,
      "metadata": {
        "id": "nVP1Ah9dhd1F"
      },
      "outputs": [],
      "source": [
        "import pandas as pd\n",
        "import numpy as np\n",
        "import seaborn as sns\n",
        "import matplotlib.pyplot as plt\n",
        "import plotly.express as px\n",
        "from sklearn.metrics import accuracy_score, classification_report"
      ]
    },
    {
      "cell_type": "markdown",
      "metadata": {
        "id": "L0FGtQLrnN-0"
      },
      "source": [
        "## Base risco de crédito"
      ]
    },
    {
      "cell_type": "code",
      "execution_count": null,
      "metadata": {
        "id": "2ikfKSdGINxr"
      },
      "outputs": [],
      "source": [
        "from google.colab import drive\n",
        "drive.mount('/content/drive')"
      ]
    },
    {
      "cell_type": "code",
      "execution_count": null,
      "metadata": {
        "id": "I4P2zsoKoNUU"
      },
      "outputs": [],
      "source": [
        "base_risco_credito = pd.read_csv('/content/drive/MyDrive/ic/risco_credito.csv')"
      ]
    },
    {
      "cell_type": "code",
      "execution_count": null,
      "metadata": {
        "id": "LTabRMD0ohDK"
      },
      "outputs": [],
      "source": [
        "base_risco_credito"
      ]
    },
    {
      "cell_type": "code",
      "execution_count": null,
      "metadata": {
        "id": "N6IVA-f8orh0"
      },
      "outputs": [],
      "source": [
        "X_risco_credito = base_risco_credito.iloc[:, 0:4].values\n",
        "X_risco_credito"
      ]
    },
    {
      "cell_type": "code",
      "execution_count": null,
      "metadata": {
        "id": "ErUm7cNoo9E8"
      },
      "outputs": [],
      "source": [
        "y_risco_credito = base_risco_credito.iloc[:, 4].values\n",
        "y_risco_credito"
      ]
    },
    {
      "cell_type": "code",
      "execution_count": null,
      "metadata": {
        "id": "7-DUUQt3uM6-"
      },
      "outputs": [],
      "source": [
        "from sklearn.preprocessing import LabelEncoder\n",
        "label_encoders = LabelEncoder()\n",
        "for i in range(0,4):\n",
        "  X_risco_credito[:,i] = label_encoders.fit_transform(X_risco_credito[:,i])"
      ]
    },
    {
      "cell_type": "markdown",
      "metadata": {
        "id": "DjUu9ktyU4__"
      },
      "source": [
        "# Árvores de decisão"
      ]
    },
    {
      "cell_type": "code",
      "execution_count": null,
      "metadata": {
        "id": "9WB3PZAfYmJr"
      },
      "outputs": [],
      "source": [
        "from sklearn.tree import DecisionTreeClassifier,export_graphviz"
      ]
    },
    {
      "cell_type": "markdown",
      "metadata": {
        "id": "PfnUWv8SU7ST"
      },
      "source": [
        "## Base risco de crédito"
      ]
    },
    {
      "cell_type": "code",
      "execution_count": null,
      "metadata": {
        "id": "5I3snhO0ZLwA"
      },
      "outputs": [],
      "source": [
        "X_risco_credito"
      ]
    },
    {
      "cell_type": "code",
      "execution_count": null,
      "metadata": {
        "id": "_DpHqDH3ZRo8"
      },
      "outputs": [],
      "source": [
        "y_risco_credito"
      ]
    },
    {
      "cell_type": "code",
      "execution_count": null,
      "metadata": {
        "id": "icU__5boZVKl"
      },
      "outputs": [],
      "source": [
        "arvore_risco_credito = DecisionTreeClassifier(criterion='entropy',max_depth = 3)\n",
        "arvore_risco_credito.fit(X_risco_credito, y_risco_credito)"
      ]
    },
    {
      "cell_type": "code",
      "execution_count": null,
      "metadata": {
        "id": "aKQXYAs_Z0Uh"
      },
      "outputs": [],
      "source": [
        "arvore_risco_credito.feature_importances_"
      ]
    },
    {
      "cell_type": "code",
      "execution_count": null,
      "metadata": {
        "id": "BbOiQy7zbByE"
      },
      "outputs": [],
      "source": [
        "arvore_risco_credito.classes_"
      ]
    },
    {
      "cell_type": "code",
      "execution_count": null,
      "metadata": {
        "id": "RDybElkVaIvA"
      },
      "outputs": [],
      "source": [
        "from sklearn import tree\n",
        "previsores = ['história', 'dívida', 'garantias', 'renda']\n",
        "figura, eixos = plt.subplots(nrows=1, ncols=1, figsize=(10,10))\n",
        "tree.plot_tree(arvore_risco_credito, feature_names=previsores, class_names = arvore_risco_credito.classes_, filled=True);"
      ]
    },
    {
      "cell_type": "code",
      "execution_count": null,
      "metadata": {
        "id": "-eoPV-YDbbl6"
      },
      "outputs": [],
      "source": [
        "# história boa, dívida alta, garantias nenhuma, renda > 35\n",
        "# história ruim, dívida alta, garantias adequada, renda < 15\n",
        "previsoes = arvore_risco_credito.predict([[0,0,1,2],[2,0,0,0]])\n",
        "previsoes"
      ]
    },
    {
      "cell_type": "code",
      "execution_count": null,
      "metadata": {
        "id": "PMd8-M7A19aM"
      },
      "outputs": [],
      "source": [
        "from __future__ import print_function\n",
        "from ipywidgets import interact, interactive, fixed, interact_manual\n",
        "import ipywidgets as widgets\n",
        "from IPython.display import SVG,display\n",
        "from graphviz import Source"
      ]
    },
    {
      "cell_type": "code",
      "execution_count": null,
      "metadata": {
        "id": "IGHzNrkv1KQ3"
      },
      "outputs": [],
      "source": [
        "def plot_tree(crit, split, depth, min_samples_split, min_samples_leaf=0.2):\n",
        "    estimator = DecisionTreeClassifier(\n",
        "           random_state = 0 \n",
        "          ,criterion = crit\n",
        "          ,splitter = split\n",
        "          ,max_depth = depth\n",
        "          ,min_samples_split=min_samples_split\n",
        "          ,min_samples_leaf=min_samples_leaf\n",
        "    )\n",
        "    estimator.fit(X_risco_credito, y_risco_credito)\n",
        "    graph = Source(export_graphviz(estimator\n",
        "      , out_file=None\n",
        "      , feature_names=previsores\n",
        "      , class_names=arvore_risco_credito.classes_\n",
        "      , impurity=True\n",
        "      , filled = True))\n",
        "    display(SVG(graph.pipe(format='svg')))\n",
        "    return estimator"
      ]
    },
    {
      "cell_type": "code",
      "execution_count": null,
      "metadata": {
        "id": "vNePM-nn11mZ"
      },
      "outputs": [],
      "source": [
        "interact(plot_tree \n",
        "   , crit = [\"gini\", \"entropy\"]\n",
        "   , split = [\"best\", \"random\"]\n",
        "   , depth=[1,2,3,4,5,10,20,30]\n",
        "   , min_samples_split=(1,5)\n",
        "   , min_samples_leaf=(1,5))"
      ]
    },
    {
      "cell_type": "markdown",
      "metadata": {
        "id": "TOCiDpHFU90w"
      },
      "source": [
        "## Base credit data - 98.20%"
      ]
    },
    {
      "cell_type": "code",
      "execution_count": null,
      "metadata": {
        "id": "2VDXesvpcpTi"
      },
      "outputs": [],
      "source": [
        "import pickle\n",
        "with open('/content/drive/MyDrive/ic/credit.pkl', 'rb') as f:  \n",
        "  X_credit_treinamento, y_credit_treinamento, X_credit_teste, y_credit_teste = pickle.load(f)"
      ]
    },
    {
      "cell_type": "code",
      "execution_count": null,
      "metadata": {
        "id": "CTU0tRB3c9aU"
      },
      "outputs": [],
      "source": [
        "X_credit_treinamento.shape, y_credit_treinamento.shape"
      ]
    },
    {
      "cell_type": "code",
      "execution_count": null,
      "metadata": {
        "id": "XOMt__xNdC_A"
      },
      "outputs": [],
      "source": [
        "X_credit_teste.shape, y_credit_teste.shape"
      ]
    },
    {
      "cell_type": "code",
      "execution_count": null,
      "metadata": {
        "id": "eplNbMEcdHap"
      },
      "outputs": [],
      "source": [
        "arvore_credit = DecisionTreeClassifier(criterion='entropy', random_state = 0)\n",
        "arvore_credit.fit(X_credit_treinamento, y_credit_treinamento)"
      ]
    },
    {
      "cell_type": "code",
      "execution_count": null,
      "metadata": {
        "id": "acB3m58gdZ95"
      },
      "outputs": [],
      "source": [
        "previsoes = arvore_credit.predict(X_credit_teste)\n",
        "previsoes"
      ]
    },
    {
      "cell_type": "code",
      "execution_count": null,
      "metadata": {
        "id": "_b7lIf-Xdh3-"
      },
      "outputs": [],
      "source": [
        "y_credit_teste"
      ]
    },
    {
      "cell_type": "code",
      "execution_count": null,
      "metadata": {
        "id": "XYWVMw3WdvRJ"
      },
      "outputs": [],
      "source": [
        "from sklearn.metrics import accuracy_score, classification_report"
      ]
    },
    {
      "cell_type": "code",
      "execution_count": null,
      "metadata": {
        "id": "uxVZTYeVdyln"
      },
      "outputs": [],
      "source": [
        "accuracy_score(y_credit_teste, previsoes)"
      ]
    },
    {
      "cell_type": "code",
      "execution_count": null,
      "metadata": {
        "id": "KyxnMFFcd-dV"
      },
      "outputs": [],
      "source": [
        "from yellowbrick.classifier import ConfusionMatrix\n",
        "cm = ConfusionMatrix(arvore_credit)\n",
        "cm.fit(X_credit_treinamento, y_credit_treinamento)\n",
        "cm.score(X_credit_teste, y_credit_teste)"
      ]
    },
    {
      "cell_type": "code",
      "execution_count": null,
      "metadata": {
        "id": "TOKN0sCQejMA"
      },
      "outputs": [],
      "source": [
        "print(classification_report(y_credit_teste, previsoes))"
      ]
    },
    {
      "cell_type": "code",
      "execution_count": null,
      "metadata": {
        "id": "qbIHsNpWfU9F"
      },
      "outputs": [],
      "source": [
        "arvore_credit.classes_"
      ]
    },
    {
      "cell_type": "code",
      "execution_count": null,
      "metadata": {
        "id": "OaEECZFwfM5A"
      },
      "outputs": [],
      "source": [
        "from sklearn import tree\n",
        "previsores = ['income', 'age', 'loan']\n",
        "fig, axes = plt.subplots(nrows = 1,ncols = 1,figsize = (20,20))\n",
        "tree.plot_tree(arvore_credit, feature_names=previsores, class_names=['0','1'], filled=True);\n",
        "fig.savefig('arvore_credit.png')"
      ]
    }
  ],
  "metadata": {
    "colab": {
      "collapsed_sections": [
        "9JL8G9jQXTLF",
        "JpDM1Er1obkO",
        "cOSLRdDEsWFx",
        "S_jbxLwqu4fQ",
        "g-23aN-nkDQ7",
        "zr9S1fZXRQhg",
        "2GpcvTQauTVx",
        "QGapZ37jkPAn",
        "K2K3Wu8Q4e0E",
        "mHg2BXJR4hpi",
        "bdNbsNLFkWop",
        "q_KOjDv47-IV",
        "zAecbXOi8AzA",
        "Oi9qbert8aMv",
        "L0FGtQLrnN-0",
        "lmXN77tcnP2v",
        "lnC-s4bLnRmt",
        "PfnUWv8SU7ST",
        "TOCiDpHFU90w",
        "ZO-c0InojFK5",
        "0bLyVMFrjGzm",
        "h8ZVuJ-VDE8h",
        "SN9q4qQiDIsi",
        "0v5iHxzcNPNK",
        "e6tDYDLUNUWH"
      ],
      "name": "Arvore de Decisao",
      "provenance": []
    },
    "interpreter": {
      "hash": "0f1efa8b82ed3486a4735e01504a754bfacd0d0db99f373b58ef046aea7c1989"
    },
    "kernelspec": {
      "display_name": "Python 3.10.0 64-bit",
      "name": "python3"
    },
    "language_info": {
      "name": "python",
      "version": "3.10.0"
    }
  },
  "nbformat": 4,
  "nbformat_minor": 0
}
