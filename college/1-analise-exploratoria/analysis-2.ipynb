{
  "nbformat": 4,
  "nbformat_minor": 2,
  "metadata": {
    "colab": {
      "name": "Analise exploratória 2 - Census",
      "provenance": [],
      "collapsed_sections": [
        "9JL8G9jQXTLF",
        "JpDM1Er1obkO",
        "g-23aN-nkDQ7",
        "zr9S1fZXRQhg",
        "2GpcvTQauTVx",
        "QGapZ37jkPAn",
        "mHg2BXJR4hpi",
        "bdNbsNLFkWop",
        "zAecbXOi8AzA"
      ]
    },
    "kernelspec": {
      "name": "python3",
      "display_name": "Python 3.8.8 64-bit ('base': conda)"
    },
    "language_info": {
      "codemirror_mode": {
        "name": "ipython",
        "version": 3
      },
      "file_extension": ".py",
      "mimetype": "text/x-python",
      "name": "python",
      "nbconvert_exporter": "python",
      "pygments_lexer": "ipython3",
      "version": "3.8.8"
    },
    "interpreter": {
      "hash": "c128549c9f634028034dabcce1a48fa2c1b66ddd1c203e3e6b61562cd69260c4"
    }
  },
  "cells": [
    {
      "cell_type": "markdown",
      "source": [
        "# IA\n",
        "Análise Exploratória "
      ],
      "metadata": {
        "id": "bdeWF9k0L2YT"
      }
    },
    {
      "cell_type": "markdown",
      "source": [
        "# Importação das bibliotecas básicas"
      ],
      "metadata": {
        "id": "hfYbHgghOW5g"
      }
    },
    {
      "cell_type": "code",
      "execution_count": null,
      "source": [
        "!pip install plotly --upgrade"
      ],
      "outputs": [],
      "metadata": {
        "id": "tB6WjXRfwG5P"
      }
    },
    {
      "cell_type": "code",
      "execution_count": null,
      "source": [
        "import pandas as pd\n",
        "import numpy as np\n",
        "import seaborn as sns\n",
        "import matplotlib.pyplot as plt\n",
        "import plotly.express as px"
      ],
      "outputs": [],
      "metadata": {
        "id": "nVP1Ah9dhd1F"
      }
    },
    {
      "cell_type": "markdown",
      "source": [
        "# Base de dados do censo\n",
        "\n",
        "- Fonte: https://archive.ics.uci.edu/ml/datasets/adult"
      ],
      "metadata": {
        "id": "uObPYCYDkBAV"
      }
    },
    {
      "cell_type": "markdown",
      "source": [
        "## Exploração dos dados"
      ],
      "metadata": {
        "id": "g-23aN-nkDQ7"
      }
    },
    {
      "cell_type": "code",
      "execution_count": null,
      "source": [
        "#from google.colab import drive\n",
        "#drive.mount('/content/drive')"
      ],
      "outputs": [],
      "metadata": {
        "id": "6EXlkydDyhAI"
      }
    },
    {
      "cell_type": "code",
      "execution_count": null,
      "source": [
        "base_census = pd.read_csv('data/census.csv')"
      ],
      "outputs": [],
      "metadata": {
        "id": "Bu_IHHtyJxIY"
      }
    },
    {
      "cell_type": "code",
      "execution_count": null,
      "source": [
        "base_census"
      ],
      "outputs": [],
      "metadata": {
        "id": "zrMuz5cnLzU-"
      }
    },
    {
      "cell_type": "code",
      "execution_count": null,
      "source": [
        "base_census.describe()"
      ],
      "outputs": [],
      "metadata": {
        "id": "EoH6JYVHN3EQ"
      }
    },
    {
      "cell_type": "code",
      "execution_count": null,
      "source": [
        "base_census.isnull().sum()"
      ],
      "outputs": [],
      "metadata": {
        "id": "0DR8uJH3OY3-"
      }
    },
    {
      "cell_type": "markdown",
      "source": [
        "## Visualização dos dados"
      ],
      "metadata": {
        "id": "zr9S1fZXRQhg"
      }
    },
    {
      "cell_type": "code",
      "execution_count": null,
      "source": [
        "np.unique(base_census['income'], return_counts=True)"
      ],
      "outputs": [],
      "metadata": {
        "id": "kOGYZLW1PJlK"
      }
    },
    {
      "cell_type": "code",
      "execution_count": null,
      "source": [
        "sns.countplot(x = base_census['income']);"
      ],
      "outputs": [],
      "metadata": {
        "id": "6JF0yYymPXHK"
      }
    },
    {
      "cell_type": "code",
      "execution_count": null,
      "source": [
        "plt.hist(x = base_census['age']);"
      ],
      "outputs": [],
      "metadata": {
        "id": "m4NJnzZ8Pj_m"
      }
    },
    {
      "cell_type": "code",
      "execution_count": null,
      "source": [
        "plt.hist(x = base_census['education-num']);"
      ],
      "outputs": [],
      "metadata": {
        "id": "QFpXonIHP0vQ"
      }
    },
    {
      "cell_type": "code",
      "execution_count": null,
      "source": [
        "plt.hist(x = base_census['hour-per-week']);"
      ],
      "outputs": [],
      "metadata": {
        "id": "E9pOurcfQIHg"
      }
    },
    {
      "cell_type": "code",
      "execution_count": null,
      "source": [
        "grafico = px.treemap(base_census, path=['workclass'])\n",
        "grafico.show()"
      ],
      "outputs": [],
      "metadata": {
        "id": "xhos8N47QitL"
      }
    },
    {
      "cell_type": "code",
      "execution_count": null,
      "source": [
        "grafico = px.treemap(base_census, path=['occupation', 'relationship', 'age'])\n",
        "grafico.show()"
      ],
      "outputs": [],
      "metadata": {
        "id": "Akf69wczRLux"
      }
    },
    {
      "cell_type": "code",
      "execution_count": null,
      "source": [
        "grafico = px.parallel_categories(base_census, dimensions=['occupation', 'relationship'])\n",
        "grafico.show()"
      ],
      "outputs": [],
      "metadata": {
        "id": "VuqUp3AfRvIE"
      }
    },
    {
      "cell_type": "code",
      "execution_count": null,
      "source": [
        "grafico = px.parallel_categories(base_census, dimensions=['workclass', 'occupation', 'income'])\n",
        "grafico.show()"
      ],
      "outputs": [],
      "metadata": {
        "id": "jH9jB0jgSH_m"
      }
    },
    {
      "cell_type": "code",
      "execution_count": null,
      "source": [
        "grafico = px.parallel_categories(base_census, dimensions=['education', 'income'])\n",
        "grafico.show()"
      ],
      "outputs": [],
      "metadata": {
        "id": "qK0aGfUvSRJy"
      }
    },
    {
      "cell_type": "markdown",
      "source": [
        "## Divisão entre previsores e classe"
      ],
      "metadata": {
        "id": "2GpcvTQauTVx"
      }
    },
    {
      "cell_type": "code",
      "execution_count": null,
      "source": [
        "base_census.columns"
      ],
      "outputs": [],
      "metadata": {
        "id": "wk80GiKlVdzE"
      }
    },
    {
      "cell_type": "code",
      "execution_count": null,
      "source": [
        "X_census = base_census.iloc[:, 0:14].values"
      ],
      "outputs": [],
      "metadata": {
        "id": "w9uiN9W7VNMc"
      }
    },
    {
      "cell_type": "code",
      "execution_count": null,
      "source": [
        "X_census"
      ],
      "outputs": [],
      "metadata": {
        "id": "-BEc3zBGVrQy"
      }
    },
    {
      "cell_type": "code",
      "execution_count": null,
      "source": [
        "X_census[0]"
      ],
      "outputs": [],
      "metadata": {
        "id": "z52eLwVrVuDX"
      }
    },
    {
      "cell_type": "code",
      "execution_count": null,
      "source": [
        "y_census = base_census.iloc[:, 14].values"
      ],
      "outputs": [],
      "metadata": {
        "id": "h91x3FK8Vxry"
      }
    },
    {
      "cell_type": "code",
      "execution_count": null,
      "source": [
        "y_census"
      ],
      "outputs": [],
      "metadata": {
        "id": "eyu-A862V5GE"
      }
    },
    {
      "cell_type": "markdown",
      "source": [
        "## Tratamento de atributos categóricos"
      ],
      "metadata": {
        "id": "QGapZ37jkPAn"
      }
    },
    {
      "cell_type": "markdown",
      "source": [
        "### LabelEncoder"
      ],
      "metadata": {
        "id": "K2K3Wu8Q4e0E"
      }
    },
    {
      "cell_type": "code",
      "execution_count": null,
      "source": [
        "from sklearn.preprocessing import LabelEncoder"
      ],
      "outputs": [],
      "metadata": {
        "id": "oGz8K4uwWdGO"
      }
    },
    {
      "cell_type": "code",
      "execution_count": null,
      "source": [
        "label_encoder_teste = LabelEncoder()"
      ],
      "outputs": [],
      "metadata": {
        "id": "noIEel20WyqJ"
      }
    },
    {
      "cell_type": "code",
      "execution_count": null,
      "source": [
        "X_census[:,1]"
      ],
      "outputs": [],
      "metadata": {
        "id": "1Ref4otRW9S_"
      }
    },
    {
      "cell_type": "code",
      "execution_count": null,
      "source": [
        "teste = label_encoder_teste.fit_transform(X_census[:,1])"
      ],
      "outputs": [],
      "metadata": {
        "id": "ZtggZJBsW32I"
      }
    },
    {
      "cell_type": "code",
      "execution_count": null,
      "source": [
        "teste"
      ],
      "outputs": [],
      "metadata": {
        "id": "N7Nu-KNeXFan"
      }
    },
    {
      "cell_type": "code",
      "execution_count": null,
      "source": [
        "X_census[0]"
      ],
      "outputs": [],
      "metadata": {
        "id": "GF26IL93XWx4"
      }
    },
    {
      "cell_type": "code",
      "execution_count": null,
      "source": [
        "label_encoder_workclass = LabelEncoder()\n",
        "label_encoder_education = LabelEncoder()\n",
        "label_encoder_marital = LabelEncoder()\n",
        "label_encoder_occupation = LabelEncoder()\n",
        "label_encoder_relationship = LabelEncoder()\n",
        "label_encoder_race = LabelEncoder()\n",
        "label_encoder_sex = LabelEncoder()\n",
        "label_encoder_country = LabelEncoder()"
      ],
      "outputs": [],
      "metadata": {
        "id": "vobcD-wHXiKD"
      }
    },
    {
      "cell_type": "code",
      "execution_count": null,
      "source": [
        "X_census[:,1] = label_encoder_workclass.fit_transform(X_census[:,1])\n",
        "X_census[:,3] = label_encoder_education.fit_transform(X_census[:,3])\n",
        "X_census[:,5] = label_encoder_marital.fit_transform(X_census[:,5])\n",
        "X_census[:,6] = label_encoder_occupation.fit_transform(X_census[:,6])\n",
        "X_census[:,7] = label_encoder_relationship.fit_transform(X_census[:,7])\n",
        "X_census[:,8] = label_encoder_race.fit_transform(X_census[:,8])\n",
        "X_census[:,9] = label_encoder_sex.fit_transform(X_census[:,9])\n",
        "X_census[:,13] = label_encoder_country.fit_transform(X_census[:,13])"
      ],
      "outputs": [],
      "metadata": {
        "id": "bSUY6xUhXukh"
      }
    },
    {
      "cell_type": "code",
      "execution_count": null,
      "source": [
        "X_census[0]"
      ],
      "outputs": [],
      "metadata": {
        "id": "Y7Ez17WpYO6_"
      }
    },
    {
      "cell_type": "code",
      "execution_count": null,
      "source": [
        "X_census"
      ],
      "outputs": [],
      "metadata": {
        "id": "zzDHWOGwYUl4"
      }
    },
    {
      "cell_type": "markdown",
      "source": [
        "### OneHotEncoder"
      ],
      "metadata": {
        "id": "mHg2BXJR4hpi"
      }
    },
    {
      "cell_type": "code",
      "execution_count": null,
      "source": [
        "# Carro\n",
        "\n",
        "# Gol Pálio Uno\n",
        "#   1     2   3\n",
        "\n",
        "# Gol   1 0 0\n",
        "# Pálio 0 1 0\n",
        "# Uno   0 0 1 # encode"
      ],
      "outputs": [],
      "metadata": {
        "id": "lZh-2yOMZxfQ"
      }
    },
    {
      "cell_type": "code",
      "execution_count": null,
      "source": [
        "len(np.unique(base_census['workclass'])) # 1 0 0 0 0 0 0 0, 0 0 0 0 1 0 0 0 0"
      ],
      "outputs": [],
      "metadata": {
        "id": "XEFKLGiPa4dP"
      }
    },
    {
      "cell_type": "code",
      "execution_count": null,
      "source": [
        "len(np.unique(base_census['occupation']))"
      ],
      "outputs": [],
      "metadata": {
        "id": "AoLB7CP9bOA3"
      }
    },
    {
      "cell_type": "code",
      "execution_count": null,
      "source": [
        "from sklearn.preprocessing import OneHotEncoder\n",
        "from sklearn.compose import ColumnTransformer"
      ],
      "outputs": [],
      "metadata": {
        "id": "Z3l27yYXbTRq"
      }
    },
    {
      "cell_type": "code",
      "execution_count": null,
      "source": [
        "onehotencoder_census = ColumnTransformer(transformers=[('OneHot', OneHotEncoder(), [1,3,5,6,7,8,9,13])], remainder='passthrough')"
      ],
      "outputs": [],
      "metadata": {
        "id": "OW_FkaXdbcwI"
      }
    },
    {
      "cell_type": "code",
      "execution_count": null,
      "source": [
        "X_census = onehotencoder_census.fit_transform(X_census).toarray()"
      ],
      "outputs": [],
      "metadata": {
        "id": "QXnfaYTCb6yM"
      }
    },
    {
      "cell_type": "code",
      "execution_count": null,
      "source": [
        "X_census"
      ],
      "outputs": [],
      "metadata": {
        "id": "tYlAkc1mcB7z"
      }
    },
    {
      "cell_type": "code",
      "execution_count": null,
      "source": [
        "X_census[0]"
      ],
      "outputs": [],
      "metadata": {
        "id": "7T2BdrjDcExe"
      }
    },
    {
      "cell_type": "code",
      "execution_count": null,
      "source": [
        "X_census.shape"
      ],
      "outputs": [],
      "metadata": {
        "id": "YWik7RsUcK7V"
      }
    },
    {
      "cell_type": "markdown",
      "source": [
        "## Escalonamento dos valores"
      ],
      "metadata": {
        "id": "bdNbsNLFkWop"
      }
    },
    {
      "cell_type": "code",
      "execution_count": null,
      "source": [
        "from sklearn.preprocessing import StandardScaler\n",
        "scaler_census = StandardScaler()\n",
        "X_census = scaler_census.fit_transform(X_census)"
      ],
      "outputs": [],
      "metadata": {
        "id": "t58D0fU_c9_4"
      }
    },
    {
      "cell_type": "code",
      "execution_count": null,
      "source": [
        "X_census[0]"
      ],
      "outputs": [],
      "metadata": {
        "id": "S8zI8mHJdZ1L"
      }
    },
    {
      "cell_type": "markdown",
      "source": [
        "# Divisão das bases em treinamento e teste"
      ],
      "metadata": {
        "id": "NBXkHsxg6tcI"
      }
    },
    {
      "cell_type": "code",
      "execution_count": null,
      "source": [
        "from sklearn.model_selection import train_test_split"
      ],
      "outputs": [],
      "metadata": {
        "id": "0HPHvvv-eRAK"
      }
    },
    {
      "cell_type": "markdown",
      "source": [
        "## Census"
      ],
      "metadata": {
        "id": "zAecbXOi8AzA"
      }
    },
    {
      "cell_type": "code",
      "execution_count": null,
      "source": [
        "X_census_treinamento, X_census_teste, y_census_treinamento, y_census_teste = train_test_split(X_census, y_census, test_size = 0.15, random_state = 0)"
      ],
      "outputs": [],
      "metadata": {
        "id": "9bfZjhaeffX6"
      }
    },
    {
      "cell_type": "code",
      "execution_count": null,
      "source": [
        "X_census_treinamento.shape, y_census_treinamento.shape"
      ],
      "outputs": [],
      "metadata": {
        "id": "uMjiPLA5fvuG"
      }
    },
    {
      "cell_type": "code",
      "execution_count": null,
      "source": [
        "X_census_teste.shape, y_census_teste.shape"
      ],
      "outputs": [],
      "metadata": {
        "id": "y9jOKp2pf2l_"
      }
    }
  ]
}