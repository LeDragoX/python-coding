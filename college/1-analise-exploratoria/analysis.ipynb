{
  "nbformat": 4,
  "nbformat_minor": 2,
  "metadata": {
    "colab": {
      "name": "Cópia de Analise exploratória 1",
      "provenance": [],
      "collapsed_sections": [
        "9JL8G9jQXTLF",
        "JpDM1Er1obkO",
        "g-23aN-nkDQ7",
        "zr9S1fZXRQhg",
        "2GpcvTQauTVx",
        "QGapZ37jkPAn",
        "mHg2BXJR4hpi",
        "bdNbsNLFkWop",
        "zAecbXOi8AzA"
      ]
    },
    "kernelspec": {
      "name": "python3",
      "display_name": "Python 3.8.8 64-bit ('base': conda)"
    },
    "language_info": {
      "codemirror_mode": {
        "name": "ipython",
        "version": 3
      },
      "file_extension": ".py",
      "mimetype": "text/x-python",
      "name": "python",
      "nbconvert_exporter": "python",
      "pygments_lexer": "ipython3",
      "version": "3.8.8"
    },
    "interpreter": {
      "hash": "c128549c9f634028034dabcce1a48fa2c1b66ddd1c203e3e6b61562cd69260c4"
    }
  },
  "cells": [
    {
      "cell_type": "markdown",
      "source": [
        "# IA\n",
        "Análise Exploratória "
      ],
      "metadata": {
        "id": "bdeWF9k0L2YT"
      }
    },
    {
      "cell_type": "markdown",
      "source": [
        "# Importação das bibliotecas básicas"
      ],
      "metadata": {
        "id": "hfYbHgghOW5g"
      }
    },
    {
      "cell_type": "code",
      "execution_count": null,
      "source": [
        "!pip install plotly --upgrade"
      ],
      "outputs": [],
      "metadata": {
        "id": "tB6WjXRfwG5P",
        "colab": {
          "base_uri": "https://localhost:8080/"
        },
        "outputId": "1475a717-de16-4c4c-f851-8443e56d702e"
      }
    },
    {
      "cell_type": "code",
      "execution_count": null,
      "source": [
        "import pandas as pd\n",
        "import numpy as np\n",
        "import seaborn as sns\n",
        "import matplotlib.pyplot as plt\n",
        "import plotly.express as px\n",
        "from sklearn.model_selection import train_test_split"
      ],
      "outputs": [],
      "metadata": {
        "id": "nVP1Ah9dhd1F"
      }
    },
    {
      "cell_type": "markdown",
      "source": [
        "# Base de dados de crédito\n",
        "\n",
        "- Fonte (adaptado): https://www.kaggle.com/laotse/credit-risk-dataset"
      ],
      "metadata": {
        "id": "d4GPkpRVTfq4"
      }
    },
    {
      "cell_type": "markdown",
      "source": [
        "### Exploração dos dados"
      ],
      "metadata": {
        "id": "oCVRZFuyXPR9"
      }
    },
    {
      "cell_type": "code",
      "execution_count": null,
      "source": [
        "#from google.colab import drive\n",
        "#drive.mount('/content/drive')"
      ],
      "outputs": [],
      "metadata": {
        "id": "6EXlkydDyhAI"
      }
    },
    {
      "cell_type": "code",
      "execution_count": null,
      "source": [
        "#base_credit = pd.read_csv('drive/MyDrive/AulaSaeg/Dados/credit_data.csv')\n",
        "base_credit = pd.read_csv('data/credit_data.csv')"
      ],
      "outputs": [],
      "metadata": {
        "id": "3PkyBwG_jPVQ"
      }
    },
    {
      "cell_type": "code",
      "execution_count": null,
      "source": [
        "base_credit # default"
      ],
      "outputs": [],
      "metadata": {
        "id": "BGT1Pt5UjuNG"
      }
    },
    {
      "cell_type": "code",
      "execution_count": null,
      "source": [
        "base_credit.head(10)"
      ],
      "outputs": [],
      "metadata": {
        "id": "P59lt7V6mC-d"
      }
    },
    {
      "cell_type": "code",
      "execution_count": null,
      "source": [
        "base_credit.tail(100)"
      ],
      "outputs": [],
      "metadata": {
        "id": "dx3vdq7LmJEy"
      }
    },
    {
      "cell_type": "code",
      "execution_count": null,
      "source": [
        "base_credit.info()"
      ],
      "outputs": [],
      "metadata": {
        "id": "HRlOJF17xuvs"
      }
    },
    {
      "cell_type": "code",
      "execution_count": null,
      "source": [
        "base_credit.describe()"
      ],
      "outputs": [],
      "metadata": {
        "id": "Mkj0aqNbmQfn"
      }
    },
    {
      "cell_type": "code",
      "execution_count": null,
      "source": [
        "base_credit[base_credit['income'] >= 69995.685578]"
      ],
      "outputs": [],
      "metadata": {
        "id": "z0hYcUcXm14C"
      }
    },
    {
      "cell_type": "code",
      "execution_count": null,
      "source": [
        "base_credit"
      ],
      "outputs": [],
      "metadata": {
        "id": "DzoVM7wsnH3N"
      }
    },
    {
      "cell_type": "markdown",
      "source": [
        "### Visualização dos dados"
      ],
      "metadata": {
        "id": "x23iAAKsQ-iU"
      }
    },
    {
      "cell_type": "code",
      "execution_count": null,
      "source": [
        "np.unique(base_credit['default'], return_counts=True)"
      ],
      "outputs": [],
      "metadata": {
        "id": "doutRvJ8pGOy"
      }
    },
    {
      "cell_type": "code",
      "execution_count": null,
      "source": [
        "sns.countplot(x = base_credit['default']);"
      ],
      "outputs": [],
      "metadata": {
        "id": "XXQBO5VZpfVa"
      }
    },
    {
      "cell_type": "code",
      "execution_count": null,
      "source": [
        "plt.hist(x = base_credit['age']);"
      ],
      "outputs": [],
      "metadata": {
        "id": "1f5YJJv8pssr"
      }
    },
    {
      "cell_type": "code",
      "execution_count": null,
      "source": [
        "plt.hist(x = base_credit['income']);"
      ],
      "outputs": [],
      "metadata": {
        "id": "vaP5Rd2bqEU5"
      }
    },
    {
      "cell_type": "code",
      "execution_count": null,
      "source": [
        "plt.hist(x = base_credit['loan']);"
      ],
      "outputs": [],
      "metadata": {
        "id": "ZSWkxX1WqYBw"
      }
    },
    {
      "cell_type": "code",
      "execution_count": null,
      "source": [
        "grafico = px.scatter_matrix(base_credit, dimensions=['age', 'income', 'loan'], color = 'default')\n",
        "grafico.show()"
      ],
      "outputs": [],
      "metadata": {
        "id": "yE8db9FxqrmQ"
      }
    },
    {
      "cell_type": "markdown",
      "source": [
        "### Tratamento de valores inconsistentes"
      ],
      "metadata": {
        "id": "9JL8G9jQXTLF"
      }
    },
    {
      "cell_type": "code",
      "execution_count": null,
      "source": [
        "base_credit.loc[base_credit['age'] < 0]"
      ],
      "outputs": [],
      "metadata": {
        "id": "ALmgKrH7tXcj"
      }
    },
    {
      "cell_type": "code",
      "execution_count": null,
      "source": [
        "base_credit[base_credit['age'] < 0]"
      ],
      "outputs": [],
      "metadata": {
        "id": "9ioniRIJtjAq"
      }
    },
    {
      "cell_type": "markdown",
      "source": [
        "####Apaganda a Coluna inteira\n"
      ],
      "metadata": {
        "id": "B4Txu_Lug-22"
      }
    },
    {
      "cell_type": "code",
      "execution_count": null,
      "source": [
        "\n",
        "base_credit2 = base_credit.drop('age', axis = 1)\n",
        "base_credit2"
      ],
      "outputs": [],
      "metadata": {
        "id": "oL36X85otuBI"
      }
    },
    {
      "cell_type": "markdown",
      "source": [
        "#### Apagando Linhas"
      ],
      "metadata": {
        "id": "dHweqByYdiFa"
      }
    },
    {
      "cell_type": "code",
      "execution_count": null,
      "source": [
        "base_credit.index"
      ],
      "outputs": [],
      "metadata": {
        "id": "Nk9ps2-ButRQ"
      }
    },
    {
      "cell_type": "code",
      "execution_count": null,
      "source": [
        "base_credit[base_credit['age'] < 0].index"
      ],
      "outputs": [],
      "metadata": {
        "id": "8-qXwiNAu08w"
      }
    },
    {
      "cell_type": "code",
      "execution_count": null,
      "source": [
        "base_credit3 = base_credit.drop(base_credit[base_credit['age'] < 0].index)\n",
        "base_credit3"
      ],
      "outputs": [],
      "metadata": {
        "id": "Ig453GBmuROs"
      }
    },
    {
      "cell_type": "code",
      "execution_count": null,
      "source": [
        "base_credit3.loc[base_credit3['age'] < 0]"
      ],
      "outputs": [],
      "metadata": {
        "id": "dyU9BJOYvDvR"
      }
    },
    {
      "cell_type": "markdown",
      "source": [
        "#### Preencher os valores inconsistente manualmente"
      ],
      "metadata": {
        "id": "OPUhNN8Thwq2"
      }
    },
    {
      "cell_type": "markdown",
      "source": [
        "Prencher a média"
      ],
      "metadata": {
        "id": "j493xA8Dh1wh"
      }
    },
    {
      "cell_type": "code",
      "execution_count": null,
      "source": [
        "base_credit.mean()"
      ],
      "outputs": [],
      "metadata": {
        "id": "hdx7J_U8wKhC"
      }
    },
    {
      "cell_type": "code",
      "execution_count": null,
      "source": [
        "base_credit['age'].mean()"
      ],
      "outputs": [],
      "metadata": {
        "id": "fjhlFxNSwPP6"
      }
    },
    {
      "cell_type": "code",
      "execution_count": null,
      "source": [
        "base_credit['age'][base_credit['age'] > 0].mean()"
      ],
      "outputs": [],
      "metadata": {
        "id": "4UF1xhACwXNh"
      }
    },
    {
      "cell_type": "code",
      "execution_count": null,
      "source": [
        "base_credit.loc[base_credit['age'] < 0, 'age'] = 40.92"
      ],
      "outputs": [],
      "metadata": {
        "id": "cRQB2zXuwvlF"
      }
    },
    {
      "cell_type": "code",
      "execution_count": null,
      "source": [
        "base_credit.loc[base_credit['age'] < 0]"
      ],
      "outputs": [],
      "metadata": {
        "id": "mMif3tozw8fv"
      }
    },
    {
      "cell_type": "code",
      "execution_count": null,
      "source": [
        "base_credit.head(27)"
      ],
      "outputs": [],
      "metadata": {
        "id": "M_G2QVWNxCVk"
      }
    },
    {
      "cell_type": "markdown",
      "source": [
        "### Tratamento de valores faltantes"
      ],
      "metadata": {
        "id": "JpDM1Er1obkO"
      }
    },
    {
      "cell_type": "code",
      "execution_count": null,
      "source": [
        "base_credit.isnull()"
      ],
      "outputs": [],
      "metadata": {
        "id": "-lch6VMX_esr"
      }
    },
    {
      "cell_type": "code",
      "execution_count": null,
      "source": [
        "base_credit.isnull().sum()"
      ],
      "outputs": [],
      "metadata": {
        "id": "hEXBhxn3_r1k"
      }
    },
    {
      "cell_type": "code",
      "execution_count": null,
      "source": [
        "base_credit.loc[pd.isnull(base_credit['age'])]"
      ],
      "outputs": [],
      "metadata": {
        "id": "4M4AaOAM_2a7"
      }
    },
    {
      "cell_type": "code",
      "execution_count": null,
      "source": [
        "base_credit['age'].fillna(base_credit['age'].mean(), inplace = True)"
      ],
      "outputs": [],
      "metadata": {
        "id": "M7lQBKkIAH9U"
      }
    },
    {
      "cell_type": "code",
      "execution_count": null,
      "source": [
        "base_credit.loc[pd.isnull(base_credit['age'])]"
      ],
      "outputs": [],
      "metadata": {
        "id": "6JOHQVtBAjLT"
      }
    },
    {
      "cell_type": "code",
      "execution_count": null,
      "source": [
        "base_credit.loc[(base_credit['clientid'] == 29) | (base_credit['clientid'] == 31) | (base_credit['clientid'] == 32)]"
      ],
      "outputs": [],
      "metadata": {
        "id": "CqfBp5PhAqdx"
      }
    },
    {
      "cell_type": "code",
      "execution_count": null,
      "source": [
        "base_credit.loc[base_credit['clientid'].isin([29, 31, 32])]"
      ],
      "outputs": [],
      "metadata": {
        "id": "h25oSZkQA6Sr"
      }
    },
    {
      "cell_type": "markdown",
      "source": [
        "### Divisão entre previsores e classe"
      ],
      "metadata": {
        "id": "cOSLRdDEsWFx"
      }
    },
    {
      "cell_type": "code",
      "execution_count": null,
      "source": [
        "base_credit"
      ],
      "outputs": [],
      "metadata": {
        "id": "D-Rc1jhy_IBz"
      }
    },
    {
      "cell_type": "code",
      "execution_count": null,
      "source": [
        "X_credit = base_credit.iloc[:, 1:4].values"
      ],
      "outputs": [],
      "metadata": {
        "id": "JeE1xaPHB_vo"
      }
    },
    {
      "cell_type": "code",
      "execution_count": null,
      "source": [
        "X_credit"
      ],
      "outputs": [],
      "metadata": {
        "id": "INAZxMaDCr20"
      }
    },
    {
      "cell_type": "code",
      "execution_count": null,
      "source": [
        "type(X_credit)"
      ],
      "outputs": [],
      "metadata": {
        "id": "TM48eNGdCy1k"
      }
    },
    {
      "cell_type": "code",
      "execution_count": null,
      "source": [
        "y_credit = base_credit.iloc[:, 4].values"
      ],
      "outputs": [],
      "metadata": {
        "id": "usDHmfBTC64Y"
      }
    },
    {
      "cell_type": "code",
      "execution_count": null,
      "source": [
        "y_credit"
      ],
      "outputs": [],
      "metadata": {
        "id": "2_XXNWDVDDRE"
      }
    },
    {
      "cell_type": "code",
      "execution_count": null,
      "source": [
        "type(y_credit)"
      ],
      "outputs": [],
      "metadata": {
        "id": "0h552IwQDG14"
      }
    },
    {
      "cell_type": "markdown",
      "source": [
        "### Escalonamento dos valores"
      ],
      "metadata": {
        "id": "S_jbxLwqu4fQ"
      }
    },
    {
      "cell_type": "code",
      "execution_count": null,
      "source": [
        "X_credit"
      ],
      "outputs": [],
      "metadata": {
        "id": "EM6wEXhQFP4u"
      }
    },
    {
      "cell_type": "code",
      "execution_count": null,
      "source": [
        "X_credit[:,0].min(), X_credit[:,1].min(), X_credit[:,2].min()"
      ],
      "outputs": [],
      "metadata": {
        "id": "Hg3f5RV6FZwl"
      }
    },
    {
      "cell_type": "code",
      "execution_count": null,
      "source": [
        "X_credit[:,0].max(), X_credit[:,1].max(), X_credit[:,2].max()"
      ],
      "outputs": [],
      "metadata": {
        "id": "GCaRQEI6Fj65"
      }
    },
    {
      "cell_type": "code",
      "execution_count": null,
      "source": [
        "from sklearn.preprocessing import StandardScaler\n",
        "scaler_credit = StandardScaler()\n",
        "X_credit = scaler_credit.fit_transform(X_credit)"
      ],
      "outputs": [],
      "metadata": {
        "id": "kIwl_pfBHAOX"
      }
    },
    {
      "cell_type": "code",
      "execution_count": null,
      "source": [
        "X_credit[:,0].min(), X_credit[:,1].min(), X_credit[:,2].min()"
      ],
      "outputs": [],
      "metadata": {
        "id": "UrCwoukQHS8L"
      }
    },
    {
      "cell_type": "code",
      "execution_count": null,
      "source": [
        "X_credit[:,0].max(), X_credit[:,1].max(), X_credit[:,2].max()"
      ],
      "outputs": [],
      "metadata": {
        "id": "w8IGh3S-HdDi"
      }
    },
    {
      "cell_type": "code",
      "execution_count": null,
      "source": [
        "X_credit"
      ],
      "outputs": [],
      "metadata": {
        "id": "4VyQztFtHlYa"
      }
    },
    {
      "cell_type": "markdown",
      "source": [
        "## Credit data"
      ],
      "metadata": {
        "id": "q_KOjDv47-IV"
      }
    },
    {
      "cell_type": "code",
      "execution_count": null,
      "source": [
        "X_credit_treinamento, X_credit_teste, y_credit_treinamento, y_credit_teste = train_test_split(X_credit, y_credit, test_size = 0.25, random_state = 0)"
      ],
      "outputs": [],
      "metadata": {
        "id": "YglWGPdjeXb1"
      }
    },
    {
      "cell_type": "code",
      "execution_count": null,
      "source": [
        "X_credit_treinamento.shape"
      ],
      "outputs": [],
      "metadata": {
        "id": "OcUWH-xTfAC3"
      }
    },
    {
      "cell_type": "code",
      "execution_count": null,
      "source": [
        "y_credit_treinamento.shape"
      ],
      "outputs": [],
      "metadata": {
        "id": "7v1NiPemfL4g"
      }
    },
    {
      "cell_type": "code",
      "execution_count": null,
      "source": [
        "X_credit_teste.shape, y_credit_teste.shape"
      ],
      "outputs": [],
      "metadata": {
        "id": "iuf-gKIvfR2f"
      }
    },
    {
      "cell_type": "markdown",
      "source": [
        "## Salvar as variáveis"
      ],
      "metadata": {
        "id": "Oi9qbert8aMv"
      }
    },
    {
      "cell_type": "code",
      "execution_count": null,
      "source": [
        "import pickle"
      ],
      "outputs": [],
      "metadata": {
        "id": "Vn6R_DKHhG0u"
      }
    },
    {
      "cell_type": "code",
      "execution_count": null,
      "source": [
        "with open('credit.pkl', mode = 'wb') as f:\n",
        "  pickle.dump([X_credit_treinamento, y_credit_treinamento, X_credit_teste, y_credit_teste], f)"
      ],
      "outputs": [],
      "metadata": {
        "id": "7bcjVkwqhLpY"
      }
    },
    {
      "cell_type": "markdown",
      "source": [
        "## Recuperar as variáveis"
      ],
      "metadata": {
        "id": "ZaalRI8t_sLN"
      }
    },
    {
      "cell_type": "code",
      "execution_count": null,
      "source": [
        "with open('credit.pkl', mode = 'rb') as f:\n",
        "  X_credit_treinamento, y_credit_treinamento, X_credit_teste, y_credit_teste = pickle.load(f)"
      ],
      "outputs": [],
      "metadata": {
        "id": "WC92C6gH_sLT"
      }
    },
    {
      "cell_type": "code",
      "execution_count": null,
      "source": [
        "X_credit_treinamento.shape, y_credit_treinamento.shape"
      ],
      "outputs": [],
      "metadata": {
        "id": "_iWkqZHxAIbl"
      }
    }
  ]
}