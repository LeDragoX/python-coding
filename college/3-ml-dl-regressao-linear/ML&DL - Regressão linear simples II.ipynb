{
  "nbformat": 4,
  "nbformat_minor": 2,
  "metadata": {
    "colab": {
      "name": "ML&DL - Regressão linear simples II.ipynb",
      "provenance": []
    },
    "kernelspec": {
      "name": "python3",
      "display_name": "Python 3.8.8 64-bit ('base': conda)"
    },
    "language_info": {
      "codemirror_mode": {
        "name": "ipython",
        "version": 3
      },
      "file_extension": ".py",
      "mimetype": "text/x-python",
      "name": "python",
      "nbconvert_exporter": "python",
      "pygments_lexer": "ipython3",
      "version": "3.8.8"
    },
    "interpreter": {
      "hash": "c128549c9f634028034dabcce1a48fa2c1b66ddd1c203e3e6b61562cd69260c4"
    }
  },
  "cells": [
    {
      "cell_type": "markdown",
      "source": [
        "# ML&DL - Regressão linear simples II"
      ],
      "metadata": {
        "id": "YbFQ9rJjkz7C"
      }
    },
    {
      "cell_type": "code",
      "execution_count": null,
      "source": [
        "!pip install plotly --upgrade"
      ],
      "outputs": [],
      "metadata": {
        "id": "996CkLumsl3E"
      }
    },
    {
      "cell_type": "code",
      "execution_count": null,
      "source": [
        "import plotly.express as px\n",
        "import plotly.graph_objects as go\n",
        "import seaborn as sns\n",
        "import matplotlib.pyplot as plt\n",
        "import pandas as pd\n",
        "import numpy as np"
      ],
      "outputs": [],
      "metadata": {
        "id": "-dOBJIGes-31"
      }
    },
    {
      "cell_type": "markdown",
      "source": [
        "## Base preço das casas"
      ],
      "metadata": {
        "id": "jm7i5CtGk5DK"
      }
    },
    {
      "cell_type": "code",
      "execution_count": null,
      "source": [
        "#from google.colab import drive\n",
        "#drive.mount('/content/drive')"
      ],
      "outputs": [],
      "metadata": {
        "id": "6EXlkydDyhAI"
      }
    },
    {
      "cell_type": "code",
      "execution_count": null,
      "source": [
        "base_casas = pd.read_csv('data/house_prices.csv')\n",
        "base_casas"
      ],
      "outputs": [],
      "metadata": {
        "id": "qMzKF8nXxsA0"
      }
    },
    {
      "cell_type": "code",
      "execution_count": null,
      "source": [
        "base_casas.describe()"
      ],
      "outputs": [],
      "metadata": {
        "id": "iXGHB6TOyl-Q"
      }
    },
    {
      "cell_type": "code",
      "execution_count": null,
      "source": [
        "base_casas.info()"
      ],
      "outputs": [],
      "metadata": {
        "id": "AdF-g2RpVnaH"
      }
    },
    {
      "cell_type": "code",
      "execution_count": null,
      "source": [
        "base_casas.isnull().sum()"
      ],
      "outputs": [],
      "metadata": {
        "id": "7WgYqclcy2y6"
      }
    },
    {
      "cell_type": "code",
      "execution_count": null,
      "source": [
        "base_casas.corr()"
      ],
      "outputs": [],
      "metadata": {
        "id": "z3-gqbbEzAJB"
      }
    },
    {
      "cell_type": "code",
      "execution_count": null,
      "source": [
        "figura = plt.figure(figsize=(15,15))\n",
        "sns.heatmap(base_casas.corr(), annot=True);"
      ],
      "outputs": [],
      "metadata": {
        "id": "Ke4QZ7tKzKAj"
      }
    },
    {
      "cell_type": "code",
      "execution_count": null,
      "source": [
        "X_casas = base_casas.iloc[:,5:6].values\n",
        "X_casas"
      ],
      "outputs": [],
      "metadata": {
        "id": "r-ghCIWu0PM0"
      }
    },
    {
      "cell_type": "code",
      "execution_count": null,
      "source": [
        "y_casas = base_casas.iloc[:, 2].values\n",
        "y_casas"
      ],
      "outputs": [],
      "metadata": {
        "id": "7S0eXs3R0dZe"
      }
    },
    {
      "cell_type": "code",
      "execution_count": null,
      "source": [
        "from sklearn.model_selection import train_test_split\n",
        "X_casas_treinamento, X_casas_teste, y_casas_treinamento, y_casas_teste = train_test_split(X_casas, y_casas, test_size = 0.3, random_state = 0)"
      ],
      "outputs": [],
      "metadata": {
        "id": "xH25j9ap18Xu"
      }
    },
    {
      "cell_type": "code",
      "execution_count": null,
      "source": [
        "X_casas_treinamento.shape, y_casas_treinamento.shape"
      ],
      "outputs": [],
      "metadata": {
        "id": "Bsws9Z2P2Nug"
      }
    },
    {
      "cell_type": "code",
      "execution_count": null,
      "source": [
        "X_casas_teste.shape, y_casas_teste.shape"
      ],
      "outputs": [],
      "metadata": {
        "id": "bMjUYmZu2VEj"
      }
    },
    {
      "cell_type": "code",
      "execution_count": null,
      "source": [
        "from sklearn.linear_model import LinearRegression\n",
        "regressor_simples_casas = LinearRegression()\n",
        "regressor_simples_casas.fit(X_casas_treinamento, y_casas_treinamento)"
      ],
      "outputs": [],
      "metadata": {
        "id": "A-iqvnKk2bnf"
      }
    },
    {
      "cell_type": "code",
      "execution_count": null,
      "source": [
        "# b0\n",
        "regressor_simples_casas.intercept_"
      ],
      "outputs": [],
      "metadata": {
        "id": "2bX8QM8S2ntL"
      }
    },
    {
      "cell_type": "code",
      "execution_count": null,
      "source": [
        "# b1\n",
        "regressor_simples_casas.coef_"
      ],
      "outputs": [],
      "metadata": {
        "id": "ZRr5GJ8l2sQs"
      }
    },
    {
      "cell_type": "code",
      "execution_count": null,
      "source": [
        "regressor_simples_casas.score(X_casas_treinamento, y_casas_treinamento)"
      ],
      "outputs": [],
      "metadata": {
        "id": "GpTQY7812wpM"
      }
    },
    {
      "cell_type": "code",
      "execution_count": null,
      "source": [
        "regressor_simples_casas.score(X_casas_teste, y_casas_teste)"
      ],
      "outputs": [],
      "metadata": {
        "id": "1EG8Tvie28UO"
      }
    },
    {
      "cell_type": "code",
      "execution_count": null,
      "source": [
        "previsoes = regressor_simples_casas.predict(X_casas_treinamento)\n",
        "previsoes"
      ],
      "outputs": [],
      "metadata": {
        "id": "kL8XhAwQ3EbM"
      }
    },
    {
      "cell_type": "code",
      "execution_count": null,
      "source": [
        "grafico = px.scatter(x = X_casas_treinamento.ravel(), y = previsoes)\n",
        "grafico.show()"
      ],
      "outputs": [],
      "metadata": {
        "id": "EBHGNNDl3NBq"
      }
    },
    {
      "cell_type": "code",
      "execution_count": null,
      "source": [
        "grafico1 = px.scatter(x = X_casas_treinamento.ravel(), y = y_casas_treinamento)\n",
        "grafico2 = px.line(x = X_casas_treinamento.ravel(), y = previsoes)\n",
        "grafico2.data[0].line.color = 'red'\n",
        "grafico3 = go.Figure(data=grafico1.data + grafico2.data)\n",
        "grafico3"
      ],
      "outputs": [],
      "metadata": {
        "id": "eUli8MzC3e2D"
      }
    },
    {
      "cell_type": "code",
      "execution_count": null,
      "source": [
        "previsoes_teste = regressor_simples_casas.predict(X_casas_teste)\n",
        "previsoes_teste"
      ],
      "outputs": [],
      "metadata": {
        "id": "4KLbSxAg5oiQ"
      }
    },
    {
      "cell_type": "code",
      "execution_count": null,
      "source": [
        "y_casas_teste"
      ],
      "outputs": [],
      "metadata": {
        "id": "XZtf_4mq5wLy"
      }
    },
    {
      "cell_type": "code",
      "execution_count": null,
      "source": [
        "abs(y_casas_teste - previsoes_teste).mean()"
      ],
      "outputs": [],
      "metadata": {
        "id": "anE9uJut6BQX"
      }
    },
    {
      "cell_type": "code",
      "execution_count": null,
      "source": [
        "from sklearn.metrics import mean_absolute_error, mean_squared_error"
      ],
      "outputs": [],
      "metadata": {
        "id": "IiHbZNew7tbb"
      }
    },
    {
      "cell_type": "code",
      "execution_count": null,
      "source": [
        "mean_absolute_error(y_casas_teste, previsoes_teste)"
      ],
      "outputs": [],
      "metadata": {
        "id": "YhKSJgVk7y_-"
      }
    },
    {
      "cell_type": "code",
      "execution_count": null,
      "source": [
        "mean_squared_error(y_casas_teste, previsoes_teste)"
      ],
      "outputs": [],
      "metadata": {
        "id": "Fg1W0LPC739G"
      }
    },
    {
      "cell_type": "code",
      "execution_count": null,
      "source": [
        "np.sqrt(mean_squared_error(y_casas_teste, previsoes_teste))"
      ],
      "outputs": [],
      "metadata": {
        "id": "tXzG-aWA8EQ9"
      }
    },
    {
      "cell_type": "code",
      "execution_count": null,
      "source": [
        "grafico1 = px.scatter(x = X_casas_teste.ravel(), y = y_casas_teste)\n",
        "grafico2 = px.line(x = X_casas_teste.ravel(), y = previsoes_teste)\n",
        "grafico2.data[0].line.color = 'red'\n",
        "grafico3 = go.Figure(data=grafico1.data + grafico2.data)\n",
        "grafico3.show()"
      ],
      "outputs": [],
      "metadata": {
        "id": "6v_GM2AQ8KdP"
      }
    }
  ]
}